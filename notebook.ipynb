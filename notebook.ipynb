{
 "cells": [
  {
   "cell_type": "markdown",
   "metadata": {},
   "source": [
    "Установка зависимостей"
   ]
  },
  {
   "cell_type": "code",
   "execution_count": null,
   "metadata": {},
   "outputs": [],
   "source": [
    "%pip install torch torchvision torchaudio ultralytics"
   ]
  },
  {
   "cell_type": "markdown",
   "metadata": {},
   "source": [
    "Установка датасета\n",
    "1. Скачайте датасет https://universe.roboflow.com/mdam/mdam в формате YOLOv11\n",
    "2. Создайте папку `datasets`\n",
    "3. Распакуйте датасет в папку `datasets`\n",
    "4. Перетащите файл `data.yaml` в корень текущей папки"
   ]
  },
  {
   "cell_type": "markdown",
   "metadata": {},
   "source": [
    "Тренировка нейросети на датасете из претренированной нейросети yolo11n\\\n",
    "или можете воспользоваться готовой обученной моделей `best.pt`\n",
    "\n",
    "(натренированные модели сохраняются в `./runs/detect/train<номер тренировки>/weights`)"
   ]
  },
  {
   "cell_type": "code",
   "execution_count": null,
   "metadata": {},
   "outputs": [],
   "source": [
    "!yolo detect train data=data.yaml model=yolo11n.pt epochs=100 imgsz=640 device=0 batch=64"
   ]
  },
  {
   "cell_type": "markdown",
   "metadata": {},
   "source": [
    "Тест-драйв нейросети\n",
    "1. Скачайте и распакуйте датасет для тестирования https://drive.google.com/drive/folders/1XpKL7SzITiGaiSL1AZ6YejWYq8Q429Hs?usp=sharing\n",
    "2. Измените название папки на `testdatasets`\n",
    "3. Создайте пустую папку `donedatasets` и внутри аналогичные подпапки как в `testdatasets`"
   ]
  },
  {
   "cell_type": "code",
   "execution_count": null,
   "metadata": {},
   "outputs": [],
   "source": [
    "from ultralytics import YOLO\n",
    "\n",
    "model = YOLO(\"best.pt\") \n",
    "\n",
    "results = model.predict(\"testdatasets/*/*.jpg\", device='cuda') \n",
    "\n",
    "for result in results:\n",
    "    boxes = result.boxes \n",
    "    masks = result.masks\n",
    "    keypoints = result.keypoints\n",
    "    probs = result.probs \n",
    "    obb = result.obb  \n",
    "    # print(result.path)\n",
    "    result.save(filename=str(result.path).replace('testdatasets', 'donedatasets'))  \n",
    "\n"
   ]
  },
  {
   "cell_type": "markdown",
   "metadata": {},
   "source": [
    "Опознанные изображения хранятся в папке `donedatasets`"
   ]
  }
 ],
 "metadata": {
  "kernelspec": {
   "display_name": "venv",
   "language": "python",
   "name": "python3"
  },
  "language_info": {
   "codemirror_mode": {
    "name": "ipython",
    "version": 3
   },
   "file_extension": ".py",
   "mimetype": "text/x-python",
   "name": "python",
   "nbconvert_exporter": "python",
   "pygments_lexer": "ipython3",
   "version": "3.11.9"
  }
 },
 "nbformat": 4,
 "nbformat_minor": 2
}
